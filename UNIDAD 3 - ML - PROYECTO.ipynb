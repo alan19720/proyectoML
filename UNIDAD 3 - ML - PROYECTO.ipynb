{
 "cells": [
  {
   "cell_type": "markdown",
   "id": "77e7544f",
   "metadata": {},
   "source": [
    "# UNIDAD 3 - PROYECTO: ML"
   ]
  },
  {
   "cell_type": "markdown",
   "id": "b31d956a",
   "metadata": {},
   "source": [
    "## Nombre del alumno:\n",
    "## Número de control:"
   ]
  },
  {
   "cell_type": "markdown",
   "id": "7f817e52",
   "metadata": {},
   "source": [
    "# PRESENTACIÓN DEL PROYECTO:\n",
    "## El proyecto busca que el estudiante pueda utilizar técnicas de Machine Learning para realizar predicciones de un dataset de la vida real.\n",
    "## En esta ocasión, el dataset es pequeño, por lo que se debe tener especial cuidado cuando se traten los datos y se seleccione el modelo."
   ]
  },
  {
   "cell_type": "markdown",
   "id": "6fd8439d",
   "metadata": {},
   "source": [
    "# PARTE I: EDA."
   ]
  },
  {
   "cell_type": "markdown",
   "id": "24d7753c",
   "metadata": {},
   "source": [
    "## Paso 1. Carga y muestra.\n",
    "### - Cargue el dataset llamado \"cirrhosis.csv\" en un dataframe, posteriormente muestre su información."
   ]
  },
  {
   "cell_type": "markdown",
   "id": "c00d84f0",
   "metadata": {},
   "source": [
    "## Paso 2. Análisis estadístico.\n",
    "### - De las columnas numéricas, muestre la información estadística relevante (promedio, cuartíles, desviación estándar y coeficiente de variación).\n",
    "### - A través del coeficiente de variación determine qué columnas presentan mucha dispersión en sus datos.\n"
   ]
  },
  {
   "cell_type": "markdown",
   "id": "f110c662",
   "metadata": {},
   "source": [
    "## Paso 3. Búsqueda de nulos y datos atípicos.\n",
    "### - Muestre cuántos datos nulos tienen las columnas, puede apoyarse de un gráfico para mostrar la cantidad de nulos que hay.\n",
    "### - Muestre las distribuciones de las columnas numéricas y mencione si presentan datos atípicos/anomalías/outliers.\n"
   ]
  },
  {
   "cell_type": "markdown",
   "id": "a71b5467",
   "metadata": {},
   "source": [
    "## Paso 4. Análisis de categorización.\n",
    "### - Revise las columnas que son de tipo objeto, analice la cantidad de posibilidades que tienen.\n",
    "### - Determine si una (o algunas) puede ser categorizable, aún no la(s) categorice."
   ]
  },
  {
   "cell_type": "markdown",
   "id": "f17fa052",
   "metadata": {},
   "source": [
    "## Paso 5. Correlación y análisis del problema.\n",
    "### - Muestre la correlación de los datos numéricos con respecto a la columna \"Status\", para ello tendrá que volver numérica dicha columna (para este paso puede usar un encoder).\n",
    "### - El objetivo es predecir con estos datos la variable \"Status\".\n",
    "### - ¿Con los datos que se tienen se puede predecir correctamente esa variable?\n",
    "### - Si tuviera que seleccionar un modelo para hacer las predicciones, ¿cuál sería?"
   ]
  },
  {
   "cell_type": "markdown",
   "id": "96bf8255",
   "metadata": {},
   "source": [
    "# PARTE II: MANIPULACIÓN Y TRATAMIENTO."
   ]
  },
  {
   "cell_type": "markdown",
   "id": "74fe42c3",
   "metadata": {},
   "source": [
    "## Paso 1. Tratamiento de datos nulos.\n",
    "### - Trate los datos nulos acorde a lo que se ha visto previamente en el curso.\n",
    "### - Muestre la cantidad de datos nulos antes y después del tratamiento."
   ]
  },
  {
   "cell_type": "markdown",
   "id": "ffb44879",
   "metadata": {},
   "source": [
    "## Paso 2. Tratamiento de anomalías.\n",
    "### - Enfrente los datos extremos y las anomalías.\n",
    "### - Es libre de utilizar los métodos que prefiera, trate de no perder muchos datos (se tiene un dataset pequeño).\n",
    "### - Muestre las distribuciones tratadas antes y después del tratamiento."
   ]
  },
  {
   "cell_type": "markdown",
   "id": "f70a971f",
   "metadata": {},
   "source": [
    "## Paso 3. Categorización.\n",
    "### - Seleccione las columnas de tipo objeto candidatas a la categorización.\n",
    "### - Realice la categorización.\n",
    "### - Muestre la información del dataframe para demostrar que se realizó con éxito."
   ]
  },
  {
   "cell_type": "markdown",
   "id": "04138a7a",
   "metadata": {},
   "source": [
    "## Paso 4. Tratamiento de incosistencias.\n",
    "### - En la categorización anterior, ¿hay inconsistencias?\n",
    "### - Revise las posibles opciones de cada columna categorizada, si encuentra alguna inconsistencia hay que tratarla.\n",
    "### - Puede emplear gráficas de conteos para validar si una categoría se podría considerar como inconsistente."
   ]
  },
  {
   "cell_type": "markdown",
   "id": "afbe58c8",
   "metadata": {},
   "source": [
    "## Paso 5. Conversión a numérico.\n",
    "### - Ya que tiene un dataframe sin datos nulos, sin inconsistencias y sin anomalías, hay que convertirlo a numérico.\n",
    "### - Emplee un tipo de encoding adecuado a cada columna.\n",
    "### - Construya un nuevo dataframe completamente numérico (incluyendo \"Status\", este debe ser forzosamente mediante LabelEncoding).\n",
    "### - Muestre la información del nuevo dataframe."
   ]
  },
  {
   "cell_type": "markdown",
   "id": "a90be2d3",
   "metadata": {},
   "source": [
    "# PARTE III: MACHINE LEARNING."
   ]
  },
  {
   "cell_type": "markdown",
   "id": "aacdc179",
   "metadata": {},
   "source": [
    "## Paso 1. División de los datos.\n",
    "### - Divide las columnas en la variable \"X\" y la variable \"y\".\n",
    "### - Muestree los datos en dos: entrenamiento y pruebas. La proporción de cada muestra queda a decisión suya.\n",
    "### - Utilice una semilla para que los resultados puedan ser reproducibles.\n"
   ]
  },
  {
   "cell_type": "markdown",
   "id": "6314e7e1",
   "metadata": {},
   "source": [
    "## Paso 2. Abordaje mediante modelo simple.\n",
    "### - Importe un modelo simple de ML, puede ser KNN, Regresión Logística o un árbol de decisión.\n",
    "### - Entrene el modelo con los datos y realice las predicciones con la muestra de pruebas.\n",
    "### - Muestre los resultados con f1_score, accuracy_score y classification_report.\n",
    "### - Analizando el reporte de clasificación, ¿qué tal se desempeñó su modelo?"
   ]
  },
  {
   "cell_type": "markdown",
   "id": "4d3ad120",
   "metadata": {},
   "source": [
    "## Paso 3. Mejorando el modelo.\n",
    "### - Emplee GridSearchCV para encontrar los mejores hiperparámetros para su modelo.\n",
    "### - Valide con varias opciones.\n",
    "### - Si su modelo no logra mejorar mucho, no se preocupe, es parte del aprendizaje."
   ]
  },
  {
   "cell_type": "markdown",
   "id": "19e232a8",
   "metadata": {},
   "source": [
    "## Paso 4. Ensambles.\n",
    "### - Utilice el ensamble de VotingClassifier para mejorar el rendimiento.\n",
    "### - Seleccione al menos 4 modelos simples diferentes y úselos dentro del ensamble (Stacking).\n",
    "### - Entrene el meta-modelo y valide su rendimiento con f1_score, accuracy_score y classification_report.\n",
    "### - Analizando el classification_report, ¿qué tal se desempeñó el modelo?\n"
   ]
  },
  {
   "cell_type": "markdown",
   "id": "9fcf0a9d",
   "metadata": {},
   "source": [
    "## Paso 5. Modelo supremo.\n",
    "### - Con los resultados del paso 4 y 5, determine qué camino seguirá: tomar un modelo y mejorarlo o usar el meta-modelo y mejorarlo.\n",
    "### - Mejore su modelo hasta el máximo, para eso se recomienda utilizar una Pipeline (puede ser con Pipeline o make_pipeline).\n",
    "### - Dependiendo del modelo que haya seleccionado, debe buscar mejores hiperparámetros, escalar, normalizar, estandarizar o hacer cambios importantes en los datos (como seleccionar únicamente las variables de mayor correlación), también puede emplear PCA para reducir dimensionalidad.\n",
    "### - El objetivo es que el modelo generado en este paso sea superior a los modelos del paso 4 y 5.\n",
    "### - Para este paso también puede utilizar las SVM, RandomForest y Redes Neuronales Artificiales (SKLearn)."
   ]
  },
  {
   "cell_type": "markdown",
   "id": "15317942",
   "metadata": {},
   "source": [
    "# PARTE IV. PRESENTACIÓN.\n",
    "## - Emplee PCA con las columnas de la variable X (con los datos completos) y reduzca su dimensionalidad a 2.\n",
    "## - Muestre un gráfico de dispersión entre esas dos características PCA y colorice con la columna \"Status\". Para esto puede construir un nuevo dataframe con las 2 columnas obtenidas por PCA y añadiendo la columna \"Status\" antes de la transformación.\n",
    "## - Analice si los grupos se pueden separar dentro de ese gráfico.\n",
    "## - Suba este proyecto a su propio repositorio en GitHub.\n",
    "## - Documente en un README el proceso realizado en este proyecto.\n",
    "## - Brinde el enlace al entregar el proyecto en Teams.\n"
   ]
  }
 ],
 "metadata": {
  "kernelspec": {
   "display_name": "Python 3 (ipykernel)",
   "language": "python",
   "name": "python3"
  },
  "language_info": {
   "codemirror_mode": {
    "name": "ipython",
    "version": 3
   },
   "file_extension": ".py",
   "mimetype": "text/x-python",
   "name": "python",
   "nbconvert_exporter": "python",
   "pygments_lexer": "ipython3",
   "version": "3.11.4"
  }
 },
 "nbformat": 4,
 "nbformat_minor": 5
}
